{
 "cells": [
  {
   "cell_type": "markdown",
   "metadata": {},
   "source": [
    "Þykkt sýnis = 525 E-06 m\n",
    "Geymum dataskrár í fylki þar sem channel er í dálkum og hitastig í línum. <br />\n",
    "annað hvert channel er polarity-switch <br />\n",
    "channel [1,4]: Hall frændi <br />\n",
    "channel [5,8]: Van der Pauw $R_A$(vertical) - notum bara $B=0$<br />\n",
    "channel [9,12]: Van der Pauw $R_B$(horizontal) - notum bara $B=0$ <br />\n"
   ]
  },
  {
   "cell_type": "code",
   "execution_count": 79,
   "metadata": {},
   "outputs": [
    {
     "name": "stdout",
     "output_type": "stream",
     "text": [
      "1133771.2009177785\n"
     ]
    }
   ],
   "source": [
    "import numpy as np\n",
    "f_hitastig = 3# Fjöldi hitastigsmælinga\n",
    "hitastig=np.arange(23,30,1) # og svo frvs....\n",
    "nofn = np.empty([f_hitastig, 12], dtype=\"U28\")\n",
    "data_hall = np.empty([f_hitastig,4], dtype=object)\n",
    "data_pauw = np.empty([f_hitastig,8], dtype=object)\n",
    "for i in range(0,f_hitastig):\n",
    "    for j in range(0,12):\n",
    "        nofn[i,j] = 'ch'+str(j+1)+'_T'+str(hitastig[i])+'_00Si_Kemil.dat'\n",
    "        if j<4:\n",
    "            data_hall[i,j] = np.loadtxt(nofn[i,j], delimiter='\\t', unpack=False,skiprows=1)\n",
    "            if j == 1:\n",
    "                data_hall[i,j-1]=np.r_['0,2',data_hall[i,j][0,:],data_hall[i,j-1]]\n",
    "        if j>=4:\n",
    "            data_pauw[i,j-4] = np.loadtxt(nofn[i,j], delimiter='\\t', unpack=False,skiprows=1)\n",
    "            \n",
    "def sheetResistance(pauw):\n",
    "    R_A = (pauw[0][3,4]+pauw[1][3,4]+pauw[2][3,4]+pauw[3][3,4])/4\n",
    "    R_B = (pauw[4][3,4]+pauw[5][3,4]+pauw[6][3,4]+pauw[7][3,4])/4\n",
    "    error=1.0\n",
    "    z = 2*np.log(2)/(np.pi*(R_A+R_B))\n",
    "    while(error>0.0005):\n",
    "        y = 1/np.exp(np.pi*z*R_A) + 1/np.exp(np.pi*z*R_B)\n",
    "        temp = z\n",
    "        z = z - ((1-y)/np.pi)/(R_A/np.exp(np.pi*z*R_A) + R_B/np.exp(np.pi*z*R_B))\n",
    "        error = np.abs((z-temp)/z)\n",
    "    R_s = 1/z\n",
    "    return R_s\n",
    "\n",
    "pauw = data_pauw[0,:]\n",
    "#print(pauw[0][3,4])\n",
    "R_s = sheetResistance(pauw)\n",
    "print(R_s)\n"
   ]
  },
  {
   "cell_type": "code",
   "execution_count": null,
   "metadata": {},
   "outputs": [],
   "source": []
  }
 ],
 "metadata": {
  "kernelspec": {
   "display_name": "Python 3",
   "language": "python",
   "name": "python3"
  },
  "language_info": {
   "codemirror_mode": {
    "name": "ipython",
    "version": 3
   },
   "file_extension": ".py",
   "mimetype": "text/x-python",
   "name": "python",
   "nbconvert_exporter": "python",
   "pygments_lexer": "ipython3",
   "version": "3.7.1"
  }
 },
 "nbformat": 4,
 "nbformat_minor": 2
}
